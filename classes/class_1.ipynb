{
 "cells": [
  {
   "cell_type": "markdown",
   "id": "0c4fd311",
   "metadata": {},
   "source": [
    "Quantas rodadas para probabilidade de morrer na roleta russa >= 50% (revolver com\n",
    "tambor de 6 balas e 1 bala no tambor)\n",
    " Faça um programa que mostre que na medida em que jogamos mais rodadas, a probabilidade de morrer tende\n",
    "a 1"
   ]
  },
  {
   "cell_type": "code",
   "execution_count": null,
   "id": "94503d40",
   "metadata": {},
   "outputs": [
    {
     "name": "stdout",
     "output_type": "stream",
     "text": [
      "Número exato de rodadas para a probabilidade de morrer ser >= 50%: 3.8017840169239308\n",
      "Como o número de rodadas deve ser um inteiro, são necessárias 4 rodadas.\n",
      "Probabilidade de morrer após 1 rodadas: 16.67%\n",
      "Probabilidade de morrer após 2 rodadas: 30.56%\n",
      "Probabilidade de morrer após 3 rodadas: 42.13%\n",
      "Probabilidade de morrer após 4 rodadas: 51.77%\n",
      "Probabilidade de morrer após 5 rodadas: 59.81%\n",
      "Probabilidade de morrer após 6 rodadas: 66.51%\n",
      "Probabilidade de morrer após 7 rodadas: 72.09%\n",
      "Probabilidade de morrer após 8 rodadas: 76.74%\n",
      "Probabilidade de morrer após 9 rodadas: 80.62%\n",
      "Probabilidade de morrer após 10 rodadas: 83.85%\n",
      "Probabilidade de morrer após 11 rodadas: 86.54%\n",
      "Probabilidade de morrer após 12 rodadas: 88.78%\n",
      "Probabilidade de morrer após 13 rodadas: 90.65%\n",
      "Probabilidade de morrer após 14 rodadas: 92.21%\n",
      "Probabilidade de morrer após 15 rodadas: 93.51%\n",
      "Probabilidade de morrer após 16 rodadas: 94.59%\n",
      "Probabilidade de morrer após 17 rodadas: 95.49%\n",
      "Probabilidade de morrer após 18 rodadas: 96.24%\n",
      "Probabilidade de morrer após 19 rodadas: 96.87%\n",
      "Probabilidade de morrer após 20 rodadas: 97.39%\n",
      "Probabilidade de morrer após 21 rodadas: 97.83%\n",
      "Probabilidade de morrer após 22 rodadas: 98.19%\n",
      "Probabilidade de morrer após 23 rodadas: 98.49%\n",
      "Probabilidade de morrer após 24 rodadas: 98.74%\n",
      "Probabilidade de morrer após 25 rodadas: 98.95%\n",
      "Probabilidade de morrer após 26 rodadas: 99.13%\n",
      "Probabilidade de morrer após 27 rodadas: 99.27%\n",
      "Probabilidade de morrer após 28 rodadas: 99.39%\n",
      "Probabilidade de morrer após 29 rodadas: 99.49%\n",
      "Probabilidade de morrer após 30 rodadas: 99.58%\n",
      "Probabilidade de morrer após 31 rodadas: 99.65%\n",
      "Probabilidade de morrer após 32 rodadas: 99.71%\n",
      "Probabilidade de morrer após 33 rodadas: 99.76%\n",
      "Probabilidade de morrer após 34 rodadas: 99.80%\n",
      "Probabilidade de morrer após 35 rodadas: 99.83%\n",
      "Probabilidade de morrer após 36 rodadas: 99.86%\n",
      "Probabilidade de morrer após 37 rodadas: 99.88%\n",
      "Probabilidade de morrer após 38 rodadas: 99.90%\n",
      "Probabilidade de morrer após 39 rodadas: 99.92%\n",
      "Probabilidade de morrer após 40 rodadas: 99.93%\n",
      "Probabilidade de morrer após 41 rodadas: 99.94%\n",
      "Probabilidade de morrer após 42 rodadas: 99.95%\n",
      "Probabilidade de morrer após 43 rodadas: 99.96%\n",
      "Probabilidade de morrer após 44 rodadas: 99.97%\n",
      "Probabilidade de morrer após 45 rodadas: 99.97%\n",
      "Probabilidade de morrer após 46 rodadas: 99.98%\n",
      "Probabilidade de morrer após 47 rodadas: 99.98%\n",
      "Probabilidade de morrer após 48 rodadas: 99.98%\n",
      "Probabilidade de morrer após 49 rodadas: 99.99%\n"
     ]
    }
   ],
   "source": [
    "# Importando as bibliotecas necessárias\n",
    "import numpy as np\n",
    "import matplotlib.pyplot as plt\n",
    "\n",
    "\n",
    "prob_sobreviver = 5/6\n",
    "\n",
    "# (5/6) ^n <= 50 %\n",
    "# \n",
    "\n",
    "n = np.log(0.5) / np.log(prob_sobreviver)\n",
    "print(f\"Número exato de rodadas para a probabilidade de morrer ser >= 50%: {n}\")\n",
    "n = np.ceil(n)\n",
    "\n",
    "print(f\"Como o número de rodadas deve ser um inteiro, são necessárias {int(n)} rodadas.\")\n",
    "\n",
    "for i in range(1, 50):\n",
    "    # prob_morrer + prob_sobreviver**i = 1\n",
    "    prob_morrer = 1 - (prob_sobreviver**i)\n",
    "    print(f\"Probabilidade de morrer após {i} rodadas: {prob_morrer:.2%}\")\n",
    "    \n"
   ]
  },
  {
   "cell_type": "markdown",
   "id": "ab53921d",
   "metadata": {},
   "source": [
    "# Teorema de Bayes"
   ]
  },
  {
   "cell_type": "markdown",
   "id": "94feb644",
   "metadata": {},
   "source": [
    "Filtros de email Anti-SPAM devem determinar, baseado nas palavras contida em um email,\n",
    "qual a probabilidade dele ser SPAM. Supondo que 20% dos e-mails que recebemos são SPAM,\n",
    "e que de todos os e-mails que recebemos 15% contem a palavra “senha”, enquanto dentre os\n",
    "que são SPAM 60% contem tal palavra, calcule a probabilidade de um email que contem a\n",
    "palavra “senha” ser SPAM"
   ]
  },
  {
   "cell_type": "code",
   "execution_count": 10,
   "id": "f0ff7463",
   "metadata": {},
   "outputs": [
    {
     "name": "stdout",
     "output_type": "stream",
     "text": [
      "P(A|B) = 0.8\n"
     ]
    }
   ],
   "source": [
    "p_a = 0.20\n",
    "p_b = 0.15\n",
    "p_b_a = 0.6\n",
    "p_a_b = (p_b_a * p_a) / p_b\n",
    "print(f\"P(A|B) = {p_a_b:.2}\")\n"
   ]
  },
  {
   "cell_type": "markdown",
   "id": "d56c031f",
   "metadata": {},
   "source": [
    "Jogam-se dois dados. Desde que as faces mostrem números diferentes, qual a probabilidade\n",
    "de que uma face seja 4? Resolva por:\n",
    "\n",
    " Espaço amostral\n",
    "\n",
    " Teorema de Bayes."
   ]
  },
  {
   "cell_type": "code",
   "execution_count": 17,
   "id": "9d00ede4",
   "metadata": {},
   "outputs": [
    {
     "name": "stdout",
     "output_type": "stream",
     "text": [
      "Probabilidade de sair um 4, dado que os números são diferentes: 33.33%\n",
      "P(A|B) = 33.33%\n"
     ]
    }
   ],
   "source": [
    "# espaço amostral\n",
    "total_jogadas = 6 * 6\n",
    "jogadas_possiveis = total_jogadas - 6 # faces iguais\n",
    "\n",
    "casos_4 = 10 # (1,4), (2,4), (3,4), (5,4), (6,4) e o inverso\n",
    "prob_4 = casos_4 / jogadas_possiveis\n",
    "print(f\"Probabilidade de sair um 4, dado que os números são diferentes: {prob_4:.2%}\")\n",
    "\n",
    "# teorema de bayes\n",
    "p_a = (casos_4 + 1)/total_jogadas # prob de uma face ser 4, contando o (4,4)\n",
    "p_b = jogadas_possiveis/total_jogadas # prob de serem diferentes\n",
    "p_b_a = 10 / 11 # prob de serem diferentes, dado que uma face é 4\n",
    "p_a_b = (p_b_a * p_a) / p_b\n",
    "print(f\"P(A|B) = {p_a_b:.2%}\")"
   ]
  },
  {
   "cell_type": "markdown",
   "id": "43f07dd4",
   "metadata": {},
   "source": [
    "Um meteorologista acerta 90% dos dias de sol, e 80% dos dias que chove. Sabemos que\n",
    "chove em 10% dos dias.\n",
    "\n",
    "a) Calcule a probabilidade do meteorologista prever chuva em um certo dia\n",
    "\n",
    "b) Tendo o meteorologista previsto chuva, qual a probabilidade dele acertar sua previsão (realmente chover)?"
   ]
  },
  {
   "cell_type": "code",
   "execution_count": 18,
   "id": "684d2281",
   "metadata": {},
   "outputs": [
    {
     "name": "stdout",
     "output_type": "stream",
     "text": [
      "P(A|B) = 47.06%\n"
     ]
    }
   ],
   "source": [
    "# dias que chove\n",
    "p_a = 0.1\n",
    "# dias que preveu chuva e choveu\n",
    "p_b_a = 0.8\n",
    "# dias que faz sol\n",
    "p_not_a = 1 - p_a\n",
    "# prever chuva quando fez sol\n",
    "p_b_not_a = 0.1\n",
    "# prever chuva em um certo dia\n",
    "p_b = p_a*p_b_a + p_not_a*p_b_not_a\n",
    "# prever chuva, dado que choveu\n",
    "p_a_b = (p_b_a * p_a) / p_b\n",
    "print(f\"P(A|B) = {p_a_b:.2%}\")"
   ]
  }
 ],
 "metadata": {
  "kernelspec": {
   "display_name": "Python 3",
   "language": "python",
   "name": "python3"
  },
  "language_info": {
   "codemirror_mode": {
    "name": "ipython",
    "version": 3
   },
   "file_extension": ".py",
   "mimetype": "text/x-python",
   "name": "python",
   "nbconvert_exporter": "python",
   "pygments_lexer": "ipython3",
   "version": "3.10.12"
  }
 },
 "nbformat": 4,
 "nbformat_minor": 5
}
